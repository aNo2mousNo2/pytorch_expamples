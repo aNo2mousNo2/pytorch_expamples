{
  "nbformat": 4,
  "nbformat_minor": 0,
  "metadata": {
    "colab": {
      "name": "bert.ipynb",
      "provenance": [],
      "authorship_tag": "ABX9TyNPDlCblKyp8iOK9cNXXdMa",
      "include_colab_link": true
    },
    "kernelspec": {
      "name": "python3",
      "display_name": "Python 3"
    },
    "language_info": {
      "name": "python"
    }
  },
  "cells": [
    {
      "cell_type": "markdown",
      "metadata": {
        "id": "view-in-github",
        "colab_type": "text"
      },
      "source": [
        "<a href=\"https://colab.research.google.com/github/aNo2mousNo2/pytorch_expamples/blob/master/bert/colab/bert.ipynb\" target=\"_parent\"><img src=\"https://colab.research.google.com/assets/colab-badge.svg\" alt=\"Open In Colab\"/></a>"
      ]
    },
    {
      "cell_type": "code",
      "execution_count": 11,
      "metadata": {
        "id": "0Uw7nz9xVMR9"
      },
      "outputs": [],
      "source": [
        "import random\n",
        "import glob\n",
        "from tqdm import tqdm\n",
        "import torch\n",
        "import torchtext\n",
        "from torch.utils.data import DataLoader\n",
        "from transformers import BertJapaneseTokenizer, BertForSequenceClassification\n",
        "import pytorch_lightning as pl"
      ]
    },
    {
      "cell_type": "code",
      "source": [
        "print(pl.__version__)\n",
        "print(torch.__version__)\n",
        "print(torchtext.__version__)"
      ],
      "metadata": {
        "colab": {
          "base_uri": "https://localhost:8080/"
        },
        "id": "oY9e4Fi2VWV0",
        "outputId": "85cbc88a-7b92-414c-eacf-835883705eea"
      },
      "execution_count": 12,
      "outputs": [
        {
          "output_type": "stream",
          "name": "stdout",
          "text": [
            "1.6.4\n",
            "1.11.0+cu113\n",
            "0.12.0\n"
          ]
        }
      ]
    },
    {
      "cell_type": "code",
      "source": [
        ""
      ],
      "metadata": {
        "id": "iAb8HF8ZVzbr"
      },
      "execution_count": null,
      "outputs": []
    }
  ]
}